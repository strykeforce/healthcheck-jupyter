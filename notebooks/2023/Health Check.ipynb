{
 "cells": [
  {
   "cell_type": "markdown",
   "id": "688395fd",
   "metadata": {},
   "source": [
    "# 2023 CHARGED UP Health Check"
   ]
  },
  {
   "cell_type": "code",
   "execution_count": null,
   "id": "8c175da8",
   "metadata": {},
   "outputs": [],
   "source": [
    "%%javascript\n",
    "IPython.OutputArea.auto_scroll_threshold = 9999;"
   ]
  },
  {
   "cell_type": "code",
   "execution_count": null,
   "id": "b1fa46c9",
   "metadata": {},
   "outputs": [],
   "source": [
    "from pathlib import Path\n",
    "import sys\n",
    "\n",
    "lib = Path(\"../../src\")\n",
    "sys.path.append(str(lib.resolve(strict=True)))\n",
    "import healthcheck"
   ]
  },
  {
   "cell_type": "markdown",
   "id": "3e9dca9b",
   "metadata": {},
   "source": [
    "## Load Data\n",
    "After the health check is run on the robot, the cell below will download the data from the roboRIO into this notebook if not already loaded. The health check data is saved into the `history` subdirectory."
   ]
  },
  {
   "cell_type": "code",
   "execution_count": null,
   "id": "2dd86e4b",
   "metadata": {},
   "outputs": [],
   "source": [
    "try:\n",
    "    hc\n",
    "except NameError:\n",
    "    hc = healthcheck.load_roborio()\n",
    "    path = hc.save()\n",
    "    print(f\"Health Check data saved to \\\"{path.relative_to(Path.cwd())}\\\"\")"
   ]
  },
  {
   "cell_type": "markdown",
   "id": "357b192c",
   "metadata": {},
   "source": [
    "Uncomment and run the cell below if you want to load historical data instead."
   ]
  },
  {
   "cell_type": "code",
   "execution_count": null,
   "id": "1bdc434c",
   "metadata": {},
   "outputs": [],
   "source": [
    "# hc = healthcheck.load_healthcheck(\"history/YYYY-MM-DD-HHMM.pkl.xz\")"
   ]
  },
  {
   "cell_type": "markdown",
   "id": "62b9037d",
   "metadata": {},
   "source": [
    "## List Health Checks\n",
    "To assist in plotting health checks, the cell below will list all of the health check cases. Feel free to delete this after setting up health checks."
   ]
  },
  {
   "cell_type": "code",
   "execution_count": null,
   "id": "41af3e02",
   "metadata": {},
   "outputs": [],
   "source": [
    "hc.cases"
   ]
  },
  {
   "cell_type": "markdown",
   "id": "4963039b",
   "metadata": {},
   "source": [
    "## Drive Subsystem\n",
    "**Note:** the cases assigned to plot in the cell below assume that the `DriveSubsystem` is the first Subsystem tested."
   ]
  },
  {
   "cell_type": "code",
   "execution_count": null,
   "id": "911c072d",
   "metadata": {
    "scrolled": true
   },
   "outputs": [],
   "source": [
    "hc.plot_talons(cases=[0,1,2,3,4,5], talons=[0,1,2,3], voltage=True, stator_current=False, title=\"DriveSubsystem Azimuth Talons\")"
   ]
  },
  {
   "cell_type": "code",
   "execution_count": null,
   "id": "f1df1746",
   "metadata": {
    "scrolled": true
   },
   "outputs": [],
   "source": [
    "hc.plot_talons(cases=[6,7,8,9,10,11], talons=[10,11,12,13], title=\"DriveSubsystem Drive Talons\")"
   ]
  },
  {
   "cell_type": "markdown",
   "id": "5c379e9d",
   "metadata": {},
   "source": [
    "## Another Subsystem\n",
    "Add cells and plots below as desired."
   ]
  },
  {
   "cell_type": "code",
   "execution_count": null,
   "id": "8eab6f6e",
   "metadata": {},
   "outputs": [],
   "source": [
    "# hc.plot_talons(cases=[...], talons=[...])"
   ]
  },
  {
   "cell_type": "code",
   "execution_count": null,
   "id": "46bbcabb",
   "metadata": {},
   "outputs": [],
   "source": []
  }
 ],
 "metadata": {
  "kernelspec": {
   "display_name": "Python 3 (ipykernel)",
   "language": "python",
   "name": "python3"
  },
  "language_info": {
   "codemirror_mode": {
    "name": "ipython",
    "version": 3
   },
   "file_extension": ".py",
   "mimetype": "text/x-python",
   "name": "python",
   "nbconvert_exporter": "python",
   "pygments_lexer": "ipython3",
   "version": "3.10.9"
  }
 },
 "nbformat": 4,
 "nbformat_minor": 5
}
